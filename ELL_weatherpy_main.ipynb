{
 "cells": [
  {
   "cell_type": "code",
   "execution_count": 1,
   "metadata": {},
   "outputs": [],
   "source": [
    "##############################################################\n",
    "# Analysis of Proximity to Equator vs. Temperature in Cities #\n",
    "# Esther Lowe - 06/21/2019                                   #\n",
    "##############################################################\n",
    "\n",
    "# To come to a reasonable conclusion about the matter, this program was designed to:\n",
    "\n",
    "# 1. Use data for over 8000 random cities based on latitude and longitude.\n",
    "# 2. Perform a weather check on each of the cities using a series of successive API calls.\n",
    "# 3. Create scatter plots for the analysis of:\n",
    "#    a. Temperature (F) vs. Latitude\n",
    "#    b. Humidity (%) vs. Latitude\n",
    "#    c. Cloudiness (%) vs. Latitude\n",
    "#    d. Wind Speed (mph) vs. Latitude\n",
    "#    e. Create a heatmap to visualize the cities used and consider the information analyzed\n",
    "# 4. Compile the results by creating a print log of each city as it's being processed with the city number and city name.\n",
    "# 5. Make the information available by saving both a CSV of all data retrieved and png images for each scatter plot generated."
   ]
  },
  {
   "cell_type": "code",
   "execution_count": 2,
   "metadata": {},
   "outputs": [],
   "source": [
    "# Import Dependencies, configuring any API keys and grabbing csv files:\n",
    "\n",
    "# API keys\n",
    "from api_keys import owm_api_key, gkey\n",
    "\n",
    "# Dependencies\n",
    "import os\n",
    "import csv\n",
    "import matplotlib.pyplot as plt\n",
    "import requests\n",
    "import pandas as pd\n",
    "from pprint import pprint\n",
    "import gmaps\n",
    "\n",
    "\n",
    "# Load in the randomized cities csv:\n",
    "cities_csv = \"Resources/random_cities.csv\"\n",
    "cities_df = pd.read_csv(cities_csv)\n"
   ]
  },
  {
   "cell_type": "code",
   "execution_count": 3,
   "metadata": {},
   "outputs": [],
   "source": [
    "# Save config information.\n",
    "url = \"http://api.openweathermap.org/data/2.5/weather?\"\n",
    "units = \"imperial\"\n",
    "# Build partial query URL\n",
    "query_url = f\"{url}appid={owm_api_key}&units={units}&q=\""
   ]
  },
  {
   "cell_type": "code",
   "execution_count": 4,
   "metadata": {},
   "outputs": [
    {
     "name": "stdout",
     "output_type": "stream",
     "text": [
      "-----START DATA PROCESSING -----\n",
      "0 Sendai\n",
      "100 Igarape do Meio\n",
      "200 Blois\n",
      "300 Mareuil-sur-Ourcq\n",
      "400 Kilmichael\n",
      "500 Tallulah\n",
      "600 Onomichi\n",
      "700 Salies-de-Bearn\n",
      "800 Nagasaki\n",
      "900 Makamicho\n",
      "1000 Leuk\n",
      "1100 Hiratsuka\n",
      "1200 Estepona\n",
      "1300 Cambridge\n",
      "1400 Champagnole\n",
      "1500 Takatsuki\n",
      "1600 Saint Cloud\n",
      "1700 Husnes\n",
      "1800 Glasgow\n",
      "1900 Kagoshima\n",
      "2000 Bowie\n",
      "2100 Derendingen\n",
      "2200 Saland\n",
      "2300 Elbeuf\n",
      "2400 Fitzgerald\n",
      "2500 Le Kremlin-Bicetre\n",
      "2600 Yokkaichi\n",
      "2700 Akita\n",
      "2800 Ludwigsfelde\n",
      "2900 Courthezon\n",
      "3000 Velky Osek\n",
      "3100 Wolverhampton\n",
      "3200 Winsford\n",
      "3300 Swisttal\n",
      "3400 Fukuecho\n",
      "3500 Nantong\n",
      "3600 Ōita\n",
      "3700 Sopot\n",
      "3800 Luegde\n",
      "3900 Fort McMurray\n",
      "4000 Las Vegas\n",
      "4100 Newton Abbot\n",
      "4200 Loganville\n",
      "4300 Echt\n",
      "4400 London\n",
      "4500 Severac-le-Chateau\n",
      "4600 Triengen\n",
      "4700 Dolni Kalna\n",
      "4800 Oost-Souburg\n",
      "4900 La Porte\n",
      "5000 Frankfurt am Main\n",
      "5100 Hamburg\n",
      "5200 Vandoeuvre-les-Nancy\n",
      "5300 Samstagern\n",
      "5400 Vsejany\n",
      "5500 Au\n",
      "5600 Anderson\n",
      "5700 Royse City\n",
      "5800 Holasice\n",
      "5900 Sandersleben\n",
      "6000 Sterling Heights\n",
      "6100 Dorking\n",
      "6200 Teotonio Vilela\n",
      "6300 Pleasant Prairie\n",
      "6400 Kumamoto\n",
      "6500 Pruhonice\n",
      "6600 Sooke\n",
      "6700 Eger\n",
      "6800 Topeka\n",
      "6900 Beebe\n",
      "7000 Burnet\n",
      "7100 Portes-les-Valence\n",
      "7200 Genoa\n",
      "7300 Tremosna\n",
      "7400 Brandbu\n",
      "7500 Yokosuka\n",
      "7600 Toyohashi\n",
      "7700 San Francisco\n",
      "7800 Monroe\n",
      "7900 Temperley\n",
      "8000 Stollberg\n",
      "8100 Casimiro de Abreu\n",
      "8200 Berlin\n",
      "8300 Marathon\n",
      "8400 Indaiatuba\n",
      "8500 Higashine\n",
      "8600 Fort Lauderdale\n",
      "-----END DATA PROCESSING -----\n"
     ]
    }
   ],
   "source": [
    "cities = cities_df.iloc[:, 1]\n",
    "\n",
    "# set up lists to hold reponse info\n",
    "no_city_data = []\n",
    "yes_city_data = []\n",
    "lat= []\n",
    "lng = [] \n",
    "country = []\n",
    "\n",
    "max_temp = []\n",
    "humidity = []\n",
    "cloudiness = []\n",
    "wind_speed = []\n",
    "\n",
    "# Loop through the list of cities and perform a request to get the latitude, longitude, current temerature, humidity, percent cloudiness, and windspeed\n",
    "# data on each city and add it to the appropriate list (if the information is not available, it prints the city name to a list):\n",
    "# (The try function will act as a \"print log\" of sorts by making a list of all cities without data available.)\n",
    "\n",
    "print(\"-----START DATA PROCESSING -----\")\n",
    "for index, city in enumerate(cities):\n",
    "    if index % 100 == 0:\n",
    "        print(index, city)\n",
    "    try:\n",
    "        response = requests.get(query_url + city).json()\n",
    "        max_temp.append(response['main']['temp_max'])\n",
    "        humidity.append(response['main']['humidity'])\n",
    "        cloudiness.append(response['clouds']['all'])\n",
    "        wind_speed.append(response['wind']['speed'])\n",
    "        \n",
    "        yes_city_data.append(city)\n",
    "        lng.append(response['coord']['lon'])\n",
    "        lat.append(response['coord']['lat'])\n",
    "        country.append(response['sys']['country'])\n",
    "\n",
    "        \n",
    "    except KeyError:\n",
    "        no_city_data.append(city)\n",
    "\n",
    "print(\"-----END DATA PROCESSING -----\")"
   ]
  },
  {
   "cell_type": "code",
   "execution_count": 5,
   "metadata": {},
   "outputs": [
    {
     "name": "stdout",
     "output_type": "stream",
     "text": [
      "8259\n",
      "434\n"
     ]
    }
   ],
   "source": [
    "print(len(country))\n",
    "print(len(no_city_data))"
   ]
  },
  {
   "cell_type": "code",
   "execution_count": 6,
   "metadata": {},
   "outputs": [
    {
     "name": "stdout",
     "output_type": "stream",
     "text": [
      "8259\n"
     ]
    },
    {
     "data": {
      "text/html": [
       "<div>\n",
       "<style scoped>\n",
       "    .dataframe tbody tr th:only-of-type {\n",
       "        vertical-align: middle;\n",
       "    }\n",
       "\n",
       "    .dataframe tbody tr th {\n",
       "        vertical-align: top;\n",
       "    }\n",
       "\n",
       "    .dataframe thead th {\n",
       "        text-align: right;\n",
       "    }\n",
       "</style>\n",
       "<table border=\"1\" class=\"dataframe\">\n",
       "  <thead>\n",
       "    <tr style=\"text-align: right;\">\n",
       "      <th></th>\n",
       "      <th>City</th>\n",
       "      <th>Country</th>\n",
       "      <th>Latitude</th>\n",
       "      <th>Longitude</th>\n",
       "      <th>Maximum Temperature (F)</th>\n",
       "      <th>Humidity</th>\n",
       "      <th>% Cloudiness</th>\n",
       "      <th>Wind Speed (mph)</th>\n",
       "    </tr>\n",
       "  </thead>\n",
       "  <tbody>\n",
       "    <tr>\n",
       "      <th>0</th>\n",
       "      <td>Sendai</td>\n",
       "      <td>JP</td>\n",
       "      <td>38.27</td>\n",
       "      <td>140.87</td>\n",
       "      <td>66.20</td>\n",
       "      <td>88</td>\n",
       "      <td>75</td>\n",
       "      <td>4.70</td>\n",
       "    </tr>\n",
       "    <tr>\n",
       "      <th>1</th>\n",
       "      <td>Otawara</td>\n",
       "      <td>JP</td>\n",
       "      <td>36.87</td>\n",
       "      <td>140.03</td>\n",
       "      <td>64.99</td>\n",
       "      <td>93</td>\n",
       "      <td>75</td>\n",
       "      <td>4.70</td>\n",
       "    </tr>\n",
       "    <tr>\n",
       "      <th>2</th>\n",
       "      <td>Brive-la-Gaillarde</td>\n",
       "      <td>FR</td>\n",
       "      <td>45.16</td>\n",
       "      <td>1.53</td>\n",
       "      <td>73.00</td>\n",
       "      <td>76</td>\n",
       "      <td>94</td>\n",
       "      <td>4.05</td>\n",
       "    </tr>\n",
       "    <tr>\n",
       "      <th>3</th>\n",
       "      <td>Kiskoros</td>\n",
       "      <td>HU</td>\n",
       "      <td>46.62</td>\n",
       "      <td>19.29</td>\n",
       "      <td>72.00</td>\n",
       "      <td>83</td>\n",
       "      <td>0</td>\n",
       "      <td>9.17</td>\n",
       "    </tr>\n",
       "    <tr>\n",
       "      <th>4</th>\n",
       "      <td>Jefferson City</td>\n",
       "      <td>US</td>\n",
       "      <td>38.58</td>\n",
       "      <td>-92.17</td>\n",
       "      <td>79.00</td>\n",
       "      <td>47</td>\n",
       "      <td>40</td>\n",
       "      <td>13.87</td>\n",
       "    </tr>\n",
       "  </tbody>\n",
       "</table>\n",
       "</div>"
      ],
      "text/plain": [
       "                 City Country  Latitude  Longitude  Maximum Temperature (F)  \\\n",
       "0              Sendai      JP     38.27     140.87                    66.20   \n",
       "1             Otawara      JP     36.87     140.03                    64.99   \n",
       "2  Brive-la-Gaillarde      FR     45.16       1.53                    73.00   \n",
       "3            Kiskoros      HU     46.62      19.29                    72.00   \n",
       "4      Jefferson City      US     38.58     -92.17                    79.00   \n",
       "\n",
       "   Humidity  % Cloudiness  Wind Speed (mph)  \n",
       "0        88            75              4.70  \n",
       "1        93            75              4.70  \n",
       "2        76            94              4.05  \n",
       "3        83             0              9.17  \n",
       "4        47            40             13.87  "
      ]
     },
     "execution_count": 6,
     "metadata": {},
     "output_type": "execute_result"
    }
   ],
   "source": [
    "#Create a new DataFrame with the lists generated above:\n",
    "weather_dict = {\n",
    "    \"City\" : yes_city_data,\n",
    "    \"Country\" : country,\n",
    "    \"Latitude\" : lat,\n",
    "    \"Longitude\" : lng,\n",
    "    \"Maximum Temperature (F)\" : max_temp,\n",
    "    \"Humidity\" : humidity,\n",
    "    \"% Cloudiness\" : cloudiness,\n",
    "    \"Wind Speed (mph)\" : wind_speed\n",
    "}\n",
    "\n",
    "weather_data_df = pd.DataFrame(weather_dict)\n",
    "print(len(weather_data_df))\n",
    "weather_data_df.head()"
   ]
  },
  {
   "cell_type": "code",
   "execution_count": 7,
   "metadata": {},
   "outputs": [],
   "source": [
    "# Saving a csv file of the weather_data_df output:\n",
    "weather_data_df.to_csv(\"Resources/weather_data.csv\", encoding=\"utf-8\", index=False)"
   ]
  },
  {
   "cell_type": "code",
   "execution_count": 8,
   "metadata": {},
   "outputs": [
    {
     "data": {
      "image/png": "[encoded data removed]",
      "text/plain": [
       "<Figure size 432x288 with 1 Axes>"
      ]
     },
     "metadata": {
      "needs_background": "light"
     },
     "output_type": "display_data"
    }
   ],
   "source": [
    "# Build a scatter plot for each data type\n",
    "plt.scatter(weather_data_df[\"Latitude\"], weather_data_df[\"Maximum Temperature (F)\"], marker=\"o\", color = 'blue')\n",
    "\n",
    "# Equator:\n",
    "plt.axvline(x=0, c = 'black')\n",
    "\n",
    "# Incorporate the other graph properties\n",
    "plt.title(\"Maximum Temperature In Cities Around The World\")\n",
    "plt.ylabel(\"Maximum Temperature (F)\")\n",
    "plt.xlabel(\"Latitude\")\n",
    "plt.grid(True)\n",
    "plt.xlim(-90,90)\n",
    "\n",
    "# Save the figure\n",
    "plt.savefig(\"Maximum Temperature In Cities Around The World.png\")\n",
    "\n",
    "# Show plot\n",
    "plt.show()"
   ]
  },
  {
   "cell_type": "code",
   "execution_count": 9,
   "metadata": {},
   "outputs": [
    {
     "data": {
      "image/png": "[encoded data removed]",
      "text/plain": [
       "<Figure size 432x288 with 1 Axes>"
      ]
     },
     "metadata": {
      "needs_background": "light"
     },
     "output_type": "display_data"
    }
   ],
   "source": [
    "plt.scatter(weather_data_df[\"Latitude\"], weather_data_df[\"Humidity\"], marker=\"o\", color = 'r')\n",
    "# Prime Meridian:\n",
    "plt.axvline(x=0, c = 'black')\n",
    "\n",
    "# Incorporate the other graph properties\n",
    "plt.title(\"Humidity In Cities Around The World\")\n",
    "plt.ylabel(\"Percent Humidity\")\n",
    "plt.xlabel(\"Latitude\")\n",
    "plt.grid(True)\n",
    "plt.xlim(-90,90)\n",
    "\n",
    "# Save the figure\n",
    "plt.savefig(\"Humidity In Cities Around The World.png\")\n",
    "\n",
    "# Show plot\n",
    "plt.show()"
   ]
  },
  {
   "cell_type": "code",
   "execution_count": 10,
   "metadata": {},
   "outputs": [
    {
     "data": {
      "image/png": "[encoded data removed]",
      "text/plain": [
       "<Figure size 432x288 with 1 Axes>"
      ]
     },
     "metadata": {
      "needs_background": "light"
     },
     "output_type": "display_data"
    }
   ],
   "source": [
    "plt.scatter(weather_data_df[\"Latitude\"], weather_data_df[\"% Cloudiness\"], marker=\"o\", color = 'yellow')\n",
    "# Prime Meridian:\n",
    "plt.axvline(x=0, c = 'black')\n",
    "\n",
    "# Incorporate the other graph properties\n",
    "plt.title(\"Cloudiness In Cities Around The World\")\n",
    "plt.ylabel(\"Percent Cloudiness\")\n",
    "plt.xlabel(\"Latitude\")\n",
    "plt.grid(True)\n",
    "plt.xlim(-90,90)\n",
    "\n",
    "# Save the figure\n",
    "plt.savefig(\"Percent Cloudiness In Cities Around The World.png\")\n",
    "\n",
    "# Show plot\n",
    "plt.show()"
   ]
  },
  {
   "cell_type": "code",
   "execution_count": 11,
   "metadata": {},
   "outputs": [
    {
     "data": {
      "image/png": "[encoded data removed]",
      "text/plain": [
       "<Figure size 432x288 with 1 Axes>"
      ]
     },
     "metadata": {
      "needs_background": "light"
     },
     "output_type": "display_data"
    }
   ],
   "source": [
    "plt.scatter(weather_data_df[\"Latitude\"], weather_data_df[\"Wind Speed (mph)\"], marker=\"o\", color = 'green')\n",
    "# Prime Meridian:\n",
    "plt.axvline(x=0, c = 'black')\n",
    "\n",
    "# Incorporate the other graph properties\n",
    "plt.title(\"Wind Speed In Cities Around The World\")\n",
    "plt.ylabel(\"Wind Speed (mph)\")\n",
    "plt.xlabel(\"Latitude\")\n",
    "plt.grid(True)\n",
    "plt.xlim(-90,90)\n",
    "\n",
    "# Save the figure\n",
    "plt.savefig(\"Wind Speed In Cities Around The World.png\")\n",
    "\n",
    "# Show plot\n",
    "plt.show()"
   ]
  },
  {
   "cell_type": "code",
   "execution_count": 12,
   "metadata": {},
   "outputs": [],
   "source": [
    "# HEAT MAP Of the random cities to see where the data is coming from:\n",
    "# Configure gmaps with API key\n",
    "gmaps.configure(api_key=gkey)\n"
   ]
  },
  {
   "cell_type": "code",
   "execution_count": 13,
   "metadata": {},
   "outputs": [],
   "source": [
    "# Store 'Lat' and 'Lng' into  locations \n",
    "locations = weather_data_df[[\"Latitude\", \"Longitude\"]].astype(float)\n",
    "\n",
    "# Convert Temperature to float and store\n",
    "# NOTE: Although I'm using temperature to generate data for weights,\n",
    "# the temperature is merely a data point being used to determine the density of my cities\n",
    "# rather than their temperature.\n",
    "\n",
    "temp = weather_data_df[\"Maximum Temperature (F)\"].astype(float)"
   ]
  },
  {
   "cell_type": "code",
   "execution_count": 14,
   "metadata": {},
   "outputs": [
    {
     "data": {
      "application/vnd.jupyter.widget-view+json": {
       "model_id": "b1aad439bd164e25a3c3cd2b2f497ce8",
       "version_major": 2,
       "version_minor": 0
      },
      "text/plain": [
       "Figure(layout=FigureLayout(height='420px'))"
      ]
     },
     "metadata": {},
     "output_type": "display_data"
    }
   ],
   "source": [
    "# Create a Heatmap layer to see where the cities are that have been used\n",
    "fig = gmaps.figure()\n",
    "\n",
    "heat_layer = gmaps.heatmap_layer(locations, weights=temp, \n",
    "                                 dissipating=False, max_intensity=100,\n",
    "                                 point_radius = 1)\n",
    "\n",
    "# Adjust heat_layer setting to help with heatmap dissipating on zoom\n",
    "heat_layer.dissipating = False\n",
    "heat_layer.max_intensity = 100\n",
    "heat_layer.point_radius = 1\n",
    "\n",
    "fig.add_layer(heat_layer)\n",
    "\n",
    "fig\n"
   ]
  }
 ],
 "metadata": {
  "kernelspec": {
   "display_name": "Python 3",
   "language": "python",
   "name": "python3"
  },
  "language_info": {
   "codemirror_mode": {
    "name": "ipython",
    "version": 3
   },
   "file_extension": ".py",
   "mimetype": "text/x-python",
   "name": "python",
   "nbconvert_exporter": "python",
   "pygments_lexer": "ipython3",
   "version": "3.7.1"
  }
 },
 "nbformat": 4,
 "nbformat_minor": 2
}
